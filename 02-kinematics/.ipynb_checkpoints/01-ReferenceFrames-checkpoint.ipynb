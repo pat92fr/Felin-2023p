{
 "cells": [
  {
   "cell_type": "markdown",
   "id": "f6a3fd11-eae7-4944-b366-92ba929c3a66",
   "metadata": {},
   "source": [
    "# Felin 2023"
   ]
  },
  {
   "cell_type": "code",
   "execution_count": 25,
   "id": "b04ac0dc-5aae-474e-aae5-fc8f804443f3",
   "metadata": {},
   "outputs": [],
   "source": [
    "import numpy as np\n",
    "import matplotlib.pyplot as plt"
   ]
  },
  {
   "cell_type": "markdown",
   "id": "425da101-3258-4101-90d1-9c83fba19617",
   "metadata": {},
   "source": [
    "Load felin configuration script based on Stanford Controller:"
   ]
  },
  {
   "cell_type": "code",
   "execution_count": 28,
   "id": "49b4fff4-cdf7-43a8-ba28-e2517c4dc24d",
   "metadata": {},
   "outputs": [],
   "source": [
    "from Config import Configuration\n",
    "\n",
    "# import configuration from felin\n",
    "config = Configuration()"
   ]
  },
  {
   "cell_type": "markdown",
   "id": "081f3613-b416-4c91-8543-29f69a75a7e5",
   "metadata": {},
   "source": [
    "## Body Reference Frame (BRF)\n",
    "\n",
    "* Right-hand coordinate system\n",
    "* Centred on body geometric centre\n",
    "* X forward\n",
    "* Y leftward\n",
    "* Z upward\n",
    "\n",
    "<img src=\"BRF.png\" />\n"
   ]
  },
  {
   "cell_type": "markdown",
   "id": "149acaaf-8ea5-4ec8-98d5-3b02c25ae421",
   "metadata": {},
   "source": [
    "## Physical dimensions\n",
    "    \n",
    "| Constant         | Value (m) | Description                                |\n",
    "|:---              |:---:      |:---:                                       |\n",
    "| LEG_OX           | 0.172     | Leg origin along body X axis               |\n",
    "| LEG_OY           | 0.060     | Leg origin along body Y axis               |\n",
    "| LEG_OZ           | 0.000     | Leg origin along body Z axis               |\n",
    "| ABDUCTION_OFFSET | 0.060     | Distance from abduction axis to leg plane  |\n",
    "| LEG_LF           | 0.140     | Length of femur (upper leg)                |\n",
    "| LEG_LT           | 0.150     | Length of tibia (lower leg)                |\n",
    "| FOOT_RADIUS      | 0.020     | Radius of foot                             |\n",
    "\n",
    "The origin of a leg is located at the intersection of its HIPS abduction and flexion/extension joints, and it is fixed relative to the robot body.\n"
   ]
  },
  {
   "cell_type": "code",
   "execution_count": 86,
   "id": "c37a52d1-76b2-4a79-991c-6e51141ccbbb",
   "metadata": {},
   "outputs": [
    {
     "name": "stdout",
     "output_type": "stream",
     "text": [
      "Leg origins in BRF (m):\n",
      "\n",
      "[[ 0.172  0.172 -0.172 -0.172]\n",
      " [-0.06   0.06  -0.06   0.06 ]\n",
      " [ 0.     0.     0.     0.   ]]\n",
      "\n",
      "Leg dimensions: 0.06m 0.14m 0.15m\n"
     ]
    }
   ],
   "source": [
    "print(\"Leg origins in BRF (m):\\n\\n\"+str(config.LEG_ORIGINS)+\"\\n\")\n",
    "print(\"Leg dimensions: \"+str(config.ABDUCTION_OFFSET)+\"m \"+str(config.LEG_LF)+\"m \"+str(config.LEG_LT)+\"m\")"
   ]
  },
  {
   "cell_type": "markdown",
   "id": "7be77eaf-606e-42a9-b061-a62193326f8f",
   "metadata": {},
   "source": [
    "## Pose\n",
    "\n",
    "The robot pose is expressed by a 3x4 matrix, holding the 3D coordinates of its four feet, relative to Body Reference Frame.\n",
    "\n",
    "$$\n",
    "\\text{Robot Pose}=\n",
    "\\begin{bmatrix}\n",
    "FR_{x} & FL_{x} & RR_{x} & RL_{x} \\\\\n",
    "FR_{y} & FL_{y} & RR_{y} & RL_{y} \\\\\n",
    "FR_{z} & FL_{z} & RR_{z} & RL_{z}\n",
    "\\end{bmatrix}\n",
    "$$\n",
    "\n",
    "* Front Right (FR)\n",
    "* Front Left (FL)\n",
    "* Rear Right (RR)\n",
    "* Rear Left (RL)"
   ]
  },
  {
   "cell_type": "markdown",
   "id": "34eef886-b98b-426f-a907-be9b4f49d133",
   "metadata": {},
   "source": [
    "## Standing pose\n",
    "\n",
    "In the default standing pose, the robot pose is defined by the following constants:\n",
    "\n",
    "| Constant   | Value (m) | Description                                        |\n",
    "|:---        |:---:      |:---:                                               |\n",
    "| DEFAULT_X  |  0.172    | Foot position along body X axis                    |\n",
    "| DEFAULT_Y  |  0.140    | Foot position along body Y axis                    |\n",
    "| DEFAULT_Z  | -0.180    | Foot position along body Z axis                    |\n",
    "| X_SHIFT    | -0.020    | Foot offset along body X axis for CoM compensation |\n"
   ]
  },
  {
   "cell_type": "code",
   "execution_count": 87,
   "id": "a7023e94-69b8-45eb-ad88-0f25e44a4939",
   "metadata": {},
   "outputs": [
    {
     "name": "stdout",
     "output_type": "stream",
     "text": [
      "Default standing pose in BRF (m):\n",
      "\n",
      "[[ 0.152  0.152 -0.192 -0.192]\n",
      " [-0.14   0.14  -0.14   0.14 ]\n",
      " [-0.18  -0.18  -0.18  -0.18 ]]\n",
      "\n"
     ]
    }
   ],
   "source": [
    "print(\"Default standing pose in BRF (m):\\n\\n\"+str(np.round(config.default_stance_with_z,3))+\"\\n\")"
   ]
  },
  {
   "cell_type": "markdown",
   "id": "1a4d38aa-cdfb-45f3-b9ba-36769e59a40e",
   "metadata": {},
   "source": [
    "## Physical Model"
   ]
  },
  {
   "cell_type": "code",
   "execution_count": 88,
   "id": "6c09b248-9f88-49f0-b50f-3fcb6c1f19ba",
   "metadata": {},
   "outputs": [],
   "source": [
    "from pytransform3d.urdf import UrdfTransformManager\n",
    "from pytransform3d.transformations import plot_transform\n",
    "from pytransform3d.plot_utils import make_3d_axis"
   ]
  },
  {
   "cell_type": "markdown",
   "id": "bc1f41e2-a6d6-47d4-9ad1-59a9afd929c6",
   "metadata": {},
   "source": [
    "Load felin URDF file:"
   ]
  },
  {
   "cell_type": "code",
   "execution_count": 89,
   "id": "aa41e802-5aa8-471d-8355-a730ef4135ad",
   "metadata": {},
   "outputs": [],
   "source": [
    "tm = UrdfTransformManager()\n",
    "with open('./felin.urdf', \"r\") as f:\n",
    "    tm.load_urdf(f.read())"
   ]
  },
  {
   "cell_type": "markdown",
   "id": "5bcde554-e23d-44f9-8076-b0203612d416",
   "metadata": {},
   "source": [
    "List of joints and their limit angles (degrees):"
   ]
  },
  {
   "cell_type": "code",
   "execution_count": 90,
   "id": "eda16c10-6013-4071-9d9f-e6a61f963c22",
   "metadata": {},
   "outputs": [
    {
     "name": "stdout",
     "output_type": "stream",
     "text": [
      "FR-ABD  [-23.  23.]\n",
      "FR-HIPS  [  0. 195.]\n",
      "FR-KNEE  [  0. 178.]\n",
      "FR-FOOT  [0. 0.]\n",
      "RR-ABD  [-23.  23.]\n",
      "RR-HIPS  [  0. 195.]\n",
      "RR-KNEE  [  0. 178.]\n",
      "RR-FOOT  [0. 0.]\n",
      "FL-ABD  [-23.  23.]\n",
      "FL-HIPS  [  0. 195.]\n",
      "FL-KNEE  [  0. 178.]\n",
      "FL-FOOT  [0. 0.]\n",
      "RL-ABD  [-23.  23.]\n",
      "RL-HIPS  [  0. 195.]\n",
      "RL-KNEE  [  0. 178.]\n",
      "RL-FOOT  [0. 0.]\n"
     ]
    }
   ],
   "source": [
    "for joint_name in tm._joints.keys():\n",
    "    print(joint_name+\"  \"+str(np.round(np.degrees(tm.get_joint_limits(joint_name)),0)))"
   ]
  },
  {
   "cell_type": "markdown",
   "id": "0269f443-3022-4c7c-840a-f629ddc70a75",
   "metadata": {},
   "source": [
    "Display robot:"
   ]
  },
  {
   "cell_type": "code",
   "execution_count": 91,
   "id": "f43ad378-33c6-47e0-a8da-99b266d55aa1",
   "metadata": {},
   "outputs": [
    {
     "data": {
      "image/png": "[encoded data removed]",
      "text/plain": [
       "<Figure size 640x480 with 1 Axes>"
      ]
     },
     "metadata": {},
     "output_type": "display_data"
    }
   ],
   "source": [
    "# arbitrary joint position for a nice robot rendering\n",
    "tm.set_joint(\"FR-ABD\",  3 * np.pi / 180.0)\n",
    "tm.set_joint(\"RR-ABD\",  3 * np.pi / 180.0)\n",
    "tm.set_joint(\"FL-ABD\", -3 * np.pi / 180.0)\n",
    "tm.set_joint(\"RL-ABD\", -3 * np.pi / 180.0)\n",
    "\n",
    "tm.set_joint(\"FR-HIPS\", 145 * np.pi / 180.0)\n",
    "tm.set_joint(\"RR-HIPS\", 145 * np.pi / 180.0)\n",
    "tm.set_joint(\"FL-HIPS\", 145 * np.pi / 180.0)\n",
    "tm.set_joint(\"RL-HIPS\", 145 * np.pi / 180.0)\n",
    "\n",
    "tm.set_joint(\"FR-KNEE\",  85 * np.pi / 180.0)\n",
    "tm.set_joint(\"RR-KNEE\",  85 * np.pi / 180.0)\n",
    "tm.set_joint(\"FL-KNEE\",  85 * np.pi / 180.0)\n",
    "tm.set_joint(\"RL-KNEE\",  85 * np.pi / 180.0)\n",
    "\n",
    "fig = plt.figure()\n",
    "ax = fig.add_subplot(projection='3d')\n",
    "ax = tm.plot_connections_in(\"felin\", ax=ax)\n",
    "tm.plot_visuals(\"felin\", ax_s=0.33, alpha=1.0)\n",
    "ax.set_xlabel('X axis')\n",
    "ax.set_ylabel('Y axis')\n",
    "ax.set_zlabel('Z axis')\n",
    "plt.show()"
   ]
  },
  {
   "cell_type": "markdown",
   "id": "f3af68d4-3d75-44c9-9153-4607cb27952c",
   "metadata": {},
   "source": [
    "## Kinematics"
   ]
  },
  {
   "cell_type": "code",
   "execution_count": 92,
   "id": "6007fa88-6836-44d4-acbd-81cd89ed4e50",
   "metadata": {},
   "outputs": [],
   "source": [
    "import Kinematics"
   ]
  },
  {
   "cell_type": "markdown",
   "id": "a596435f-721a-43ae-bd38-e2fefbdf60e4",
   "metadata": {},
   "source": [
    "### Leg Reference Frame(s)\n",
    "\n",
    "Each leg has its own reference frame:\n",
    "* Right-hand coordinate system\n",
    "* Centred on leg origin\n",
    "* X upward\n",
    "* Y leftward\n",
    "* Z backward (**aligned** with the hips abduction revolute joint of the leg)\n",
    "\n",
    "*Why such a reference frame? Because we will use the modified DH method to compute the FK, and the Z axis is the joint revolute axis.*"
   ]
  },
  {
   "cell_type": "markdown",
   "id": "b3dfad24-e1b5-4399-b20f-00a11b81eded",
   "metadata": {},
   "source": [
    "### BRF to LRF transformation\n",
    "\n",
    "Transformations from Body Reference Frame to a Leg Reference Frame require :\n",
    "* a translation from body center to leg origins (using the previous leg origins matrix), \n",
    "* a rotation around Y axis by -90° (using a pitch rotation matrix, same for all legs). \n"
   ]
  },
  {
   "cell_type": "code",
   "execution_count": 93,
   "id": "4b96e6f8-3b1d-435d-bcbf-8564594486a0",
   "metadata": {},
   "outputs": [
    {
     "name": "stdout",
     "output_type": "stream",
     "text": [
      "Leg origins in BRF (m):\n",
      "\n",
      "[[ 0.172  0.172 -0.172 -0.172]\n",
      " [-0.06   0.06  -0.06   0.06 ]\n",
      " [ 0.     0.     0.     0.   ]]\n",
      "\n"
     ]
    }
   ],
   "source": [
    "print(\"Leg origins in BRF (m):\\n\\n\"+str(config.LEG_ORIGINS)+\"\\n\")"
   ]
  },
  {
   "cell_type": "code",
   "execution_count": 94,
   "id": "71b85854-74a9-40d5-9632-09033a856aab",
   "metadata": {},
   "outputs": [
    {
     "name": "stdout",
     "output_type": "stream",
     "text": [
      "Pitch Rotation Matrix:\n",
      "\n",
      "[[ 0  0  1]\n",
      " [ 0  1  0]\n",
      " [-1  0  0]]\n",
      "\n"
     ]
    }
   ],
   "source": [
    "print(\"Pitch Rotation Matrix:\\n\\n\"+str(Kinematics.R_BRF_to_LRF)+\"\\n\")"
   ]
  },
  {
   "cell_type": "markdown",
   "id": "4ec6d9aa-87ab-4b0b-a230-7813577c016e",
   "metadata": {},
   "source": [
    "The default standing pose relative to the LRF:"
   ]
  },
  {
   "cell_type": "code",
   "execution_count": 95,
   "id": "3372f800-ea23-440d-b7c2-54442101af0e",
   "metadata": {},
   "outputs": [
    {
     "name": "stdout",
     "output_type": "stream",
     "text": [
      "Default standing pose in BRF (m):\n",
      "\n",
      "[[ 0.152  0.152 -0.192 -0.192]\n",
      " [-0.14   0.14  -0.14   0.14 ]\n",
      " [-0.18  -0.18  -0.18  -0.18 ]]\n",
      "\n",
      "Default standing pose in LRF (m):\n",
      "\n",
      "[[-0.18 -0.18 -0.18 -0.18]\n",
      " [-0.08  0.08 -0.08  0.08]\n",
      " [ 0.02  0.02  0.02  0.02]]\n",
      "\n"
     ]
    }
   ],
   "source": [
    "pose_relative_BRF = config.default_stance_with_z\n",
    "print(\"Default standing pose in BRF (m):\\n\\n\"+str(np.round(pose_relative_BRF,3))+\"\\n\")\n",
    "\n",
    "# transformation form BRF to LRF : one translation (LEG ORIGIN) + one rotation around Y (-90°)\n",
    "pose_relative_LRF = np.zeros((3,4))\n",
    "for i in range(4):\n",
    "        pose_relative_LRF[:,i] = Kinematics.R_BRF_to_LRF.dot(pose_relative_BRF[:,i]-config.LEG_ORIGINS[:,i])\n",
    "        \n",
    "print(\"Default standing pose in LRF (m):\\n\\n\"+str(np.round(pose_relative_LRF,3))+\"\\n\")\n"
   ]
  },
  {
   "cell_type": "markdown",
   "id": "6d3e0c5f-5c90-4902-a414-906abe661ec5",
   "metadata": {},
   "source": [
    "### Forward kinematics"
   ]
  },
  {
   "cell_type": "markdown",
   "id": "8db17d7a-8612-4f6e-a8b2-b7a34f7ce464",
   "metadata": {},
   "source": [
    "Forward kinematics is defined by using the modified Denavit-Hartenberg method: \n",
    "<img src=\"modifiedDH.png\" />"
   ]
  },
  {
   "cell_type": "markdown",
   "id": "d516fd15-093c-448e-93ad-2db11b716d77",
   "metadata": {},
   "source": [
    "DH parameters for the front and rear left legs:\n",
    "    \n",
    "| Joint/Link | $\\theta$ (rotation around Z) | d (translation along Z) | a (length along X) | $\\alpha$ (twist around X) |\n",
    "|:---:       |:---:                      |:---:                    |:---:               |:---:                  |\n",
    "| 1          |  $\\theta_1$                   | 0                       | 0                  | -90°                  |\n",
    "| 2          |  $\\theta_2$+90°               | ABDUCTION_OFFSET        | LEG_LF             | 0°                    |\n",
    "| 3          |  $\\theta_3$-180°              | 0                       | LEG_LT             | 0°                    |\n",
    "\n",
    "DH parameters for the front and rear right legs:\n",
    "    \n",
    "| Joint/Link | $\\theta$ (rotation around Z) | d (translation along Z) | a (length along X) | $\\alpha$ (twist around X) |\n",
    "|:---:       |:---:                      |:---:                    |:---:               |:---:                  |\n",
    "| 1          |  $\\theta_1$                   | 0                       | 0                  | -90°                  |\n",
    "| 2          |  $\\theta_2$+90°               | -ABDUCTION_OFFSET        | LEG_LF             | 0°                    |\n",
    "| 3          |  $\\theta_3$-180°              | 0                       | LEG_LT             | 0°                    |\n",
    "\n",
    "where\n",
    "* $\\theta_1$ is the position of the HIPS adbuction revolute joint,\n",
    "* $\\theta_2$ is the position of the HIPS flexion/extension revolute joint,\n",
    "* $\\theta_3$ is the position of the KNEE flexion/extension revolute joint.\n",
    "\n",
    "Joint position is positive, according the CCW/TRIGO direction.\n",
    "\n",
    "When all revolute joints are zero, the leg pose is:\n",
    "* $\\theta_1=0$ ==> the leg is VERTICAL\n",
    "* $\\theta_2=0$ ==> the femur is HORIZONTAL, pointing forward.\n",
    "* $\\theta_3=0$ ==> the tibia is HORIZONTAL, pointing backward.\n"
   ]
  },
  {
   "cell_type": "markdown",
   "id": "ec963302-c900-4bd7-b9da-360c9359b8f7",
   "metadata": {},
   "source": [
    "The DM method gives the forward kinematics functions :\n",
    "* parameters : the joint positions of the leg,\n",
    "* result : the 3D coordinates of the foot in the leg reference frame.\n",
    "\n",
    "For the left legs:\n",
    "$$\n",
    "\\text{FK}(\\theta_1,\\theta_2,\\theta_3) = \n",
    "\\begin{bmatrix}\n",
    "c_{1}.c_{23}.\\text{LEG_LT}+c_{1}.c_{2}.\\text{LEG_LF}-s_{1}.\\text{ABDUCTION_OFFSET} \\\\\n",
    "s_{1}.c_{23}.\\text{LEG_LT}+s_{1}.c_{2}.\\text{LEG_LF}+c_{1}.\\text{ABDUCTION_OFFSET} \\\\\n",
    "-s_{23}.\\text{LEG_LT}-s_{2}.\\text{LEG_LF}\n",
    "\\end{bmatrix}\n",
    "$$\n",
    "\n",
    "For the left legs:\n",
    "$$\n",
    "\\text{FK}(\\theta_1,\\theta_2,\\theta_3) = \n",
    "\\begin{bmatrix}\n",
    "c_{1}.c_{23}.\\text{LEG_LT}+c_{1}.c_{2}.\\text{LEG_LF}+s_{1}.\\text{ABDUCTION_OFFSET} \\\\\n",
    "s_{1}.c_{23}.\\text{LEG_LT}+s_{1}.c_{2}.\\text{LEG_LF}-c_{1}.\\text{ABDUCTION_OFFSET} \\\\\n",
    "-s_{23}.\\text{LEG_LT}-s_{2}.\\text{LEG_LF}\n",
    "\\end{bmatrix}\n",
    "$$\n",
    "\n",
    "where\n",
    "* $c_{1} = cos(\\theta_1)$\n",
    "* $s_{1} = sin(\\theta_1)$\n",
    "* $c_{2} = -sin(\\theta_2)$\n",
    "* $s_{2} = cos(\\theta_2)$\n",
    "* $c_{23} = sin(\\theta_2+\\theta_3)$\n",
    "* $s_{23} = -cos(\\theta_2+\\theta_3)$"
   ]
  },
  {
   "cell_type": "code",
   "execution_count": 100,
   "id": "5c92fc35-dc35-4639-bb5e-96dd2f27400c",
   "metadata": {},
   "outputs": [
    {
     "name": "stdout",
     "output_type": "stream",
     "text": [
      "joint_position:\n",
      "[[  0.   0.  90. -15.]\n",
      " [180.  90. 180. 125.]\n",
      " [ 90.  90.  90.  45.]]\n",
      "feet_LRF:\n",
      "[[-0.15  -0.14   0.06  -0.07 ]\n",
      " [-0.06   0.06  -0.15   0.081]\n",
      " [ 0.14  -0.15   0.14  -0.067]]\n"
     ]
    }
   ],
   "source": [
    "joint_position = np.radians(np.array(\n",
    "    [   #   FR,   FL,   RR,   RL\n",
    "        [  0.0,  0.0, 90.0,-15.0], # hips abduction revolute joints\n",
    "        [180.0, 90.0,180.0,125.0], # hips flexion/extension revolute joints\n",
    "        [ 90.0, 90.0, 90.0, 45.0]  # knee flexion/extension revolute joints\n",
    "    ]\n",
    "))\n",
    "print(\"joint_position:\\n\"+str(np.round(np.degrees(joint_position),1)))\n",
    "feet_LRF = Kinematics.four_legs_forward_kinematics_LRF(joint_position,config)\n",
    "print(\"feet_LRF:\\n\"+str(np.round(feet_LRF,3)))\n"
   ]
  },
  {
   "cell_type": "markdown",
   "id": "113f9d11-ad3c-4e12-b53b-d448b7ebf950",
   "metadata": {},
   "source": [
    "### Jacobian"
   ]
  },
  {
   "cell_type": "code",
   "execution_count": null,
   "id": "65961db6-da4f-4864-9ad5-326188e4a0b1",
   "metadata": {},
   "outputs": [],
   "source": []
  },
  {
   "cell_type": "markdown",
   "id": "1442d1a9-e9a4-4721-b90a-5a150b7e3224",
   "metadata": {},
   "source": [
    "### Inverse Kinematics (explicit method)"
   ]
  },
  {
   "cell_type": "code",
   "execution_count": null,
   "id": "9170d542-093a-43a9-8aa2-dbbb57e2de23",
   "metadata": {},
   "outputs": [],
   "source": []
  },
  {
   "cell_type": "markdown",
   "id": "6fe13baa-e1c3-4dd8-ae52-d58bbf7d9008",
   "metadata": {},
   "source": [
    "### Inverse Kinematics (iterative method)"
   ]
  },
  {
   "cell_type": "code",
   "execution_count": null,
   "id": "03ad0abf-1c69-4f27-9e0a-a6d5c107b92a",
   "metadata": {},
   "outputs": [],
   "source": []
  },
  {
   "cell_type": "code",
   "execution_count": null,
   "id": "9acad5ce-1f3c-42e1-9351-e4474175a071",
   "metadata": {},
   "outputs": [],
   "source": []
  }
 ],
 "metadata": {
  "kernelspec": {
   "display_name": "Python 3 (ipykernel)",
   "language": "python",
   "name": "python3"
  },
  "language_info": {
   "codemirror_mode": {
    "name": "ipython",
    "version": 3
   },
   "file_extension": ".py",
   "mimetype": "text/x-python",
   "name": "python",
   "nbconvert_exporter": "python",
   "pygments_lexer": "ipython3",
   "version": "3.8.10"
  }
 },
 "nbformat": 4,
 "nbformat_minor": 5
}
