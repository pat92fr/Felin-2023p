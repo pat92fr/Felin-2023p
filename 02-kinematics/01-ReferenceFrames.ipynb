{
 "cells": [
  {
   "cell_type": "markdown",
   "id": "f6a3fd11-eae7-4944-b366-92ba929c3a66",
   "metadata": {},
   "source": [
    "# Felin 2023"
   ]
  },
  {
   "cell_type": "markdown",
   "id": "299b6778-9ca2-4739-8101-0e20a18031f9",
   "metadata": {},
   "source": [
    "The purpose of this section is to update Configuration.py and Kinematics.py from Pupper to Felin, based on Stanford Quadruped open source project.\n",
    "https://github.com/stanfordroboticsclub/StanfordQuadruped"
   ]
  },
  {
   "cell_type": "code",
   "execution_count": null,
   "id": "b04ac0dc-5aae-474e-aae5-fc8f804443f3",
   "metadata": {},
   "outputs": [],
   "source": [
    "import numpy as np\n",
    "import matplotlib.pyplot as plt"
   ]
  },
  {
   "cell_type": "markdown",
   "id": "425da101-3258-4101-90d1-9c83fba19617",
   "metadata": {},
   "source": [
    "Load felin configuration script based on Stanford Controller:"
   ]
  },
  {
   "cell_type": "code",
   "execution_count": null,
   "id": "49b4fff4-cdf7-43a8-ba28-e2517c4dc24d",
   "metadata": {},
   "outputs": [],
   "source": [
    "from Config import Configuration\n",
    "\n",
    "# import configuration from felin\n",
    "config = Configuration()"
   ]
  },
  {
   "cell_type": "markdown",
   "id": "081f3613-b416-4c91-8543-29f69a75a7e5",
   "metadata": {},
   "source": [
    "## 1. Body Reference Frame (BRF)\n",
    "\n",
    "* Right-hand coordinate system\n",
    "* Centred on body geometric centre\n",
    "* X forward\n",
    "* Y leftward\n",
    "* Z upward\n",
    "\n",
    "<img src=\"BRF.png\" />\n"
   ]
  },
  {
   "cell_type": "markdown",
   "id": "149acaaf-8ea5-4ec8-98d5-3b02c25ae421",
   "metadata": {},
   "source": [
    "## 2. Physical dimensions\n",
    "    \n",
    "| Constant         | Value (m) | Description                                |\n",
    "|:---              |:---:      |:---:                                       |\n",
    "| LEG_OX           | 0.172     | Leg origin along body X axis               |\n",
    "| LEG_OY           | 0.060     | Leg origin along body Y axis               |\n",
    "| LEG_OZ           | 0.000     | Leg origin along body Z axis               |\n",
    "| ABDUCTION_OFFSET | 0.060     | Distance from abduction axis to leg plane  |\n",
    "| LEG_LF           | 0.140     | Length of femur (upper leg)                |\n",
    "| LEG_LT           | 0.150     | Length of tibia (lower leg)                |\n",
    "| FOOT_RADIUS      | 0.020     | Radius of foot                             |\n",
    "\n",
    "The origin of a leg is located at the intersection of its HIPS abduction and flexion/extension joints, and it is fixed relative to the robot body.\n"
   ]
  },
  {
   "cell_type": "code",
   "execution_count": null,
   "id": "c37a52d1-76b2-4a79-991c-6e51141ccbbb",
   "metadata": {},
   "outputs": [],
   "source": [
    "print(\"Leg origins in BRF (m):\\n\\n\"+str(config.LEG_ORIGINS)+\"\\n\")\n",
    "print(\"Leg dimensions: \"+str(config.ABDUCTION_OFFSET)+\"m \"+str(config.LEG_LF)+\"m \"+str(config.LEG_LT)+\"m\")"
   ]
  },
  {
   "cell_type": "markdown",
   "id": "7be77eaf-606e-42a9-b061-a62193326f8f",
   "metadata": {},
   "source": [
    "## 3. Coordinates & Pose\n",
    "\n",
    "The robot pose is expressed by a 3x4 matrix, holding the 3D coordinates of its four feet, relative to Body Reference Frame.\n",
    "\n",
    "$$\n",
    "\\text{Robot Pose}=\n",
    "\\begin{bmatrix}\n",
    "FR_{x} & FL_{x} & RR_{x} & RL_{x} \\\\\n",
    "FR_{y} & FL_{y} & RR_{y} & RL_{y} \\\\\n",
    "FR_{z} & FL_{z} & RR_{z} & RL_{z}\n",
    "\\end{bmatrix}\n",
    "$$\n",
    "\n",
    "* Front Right (FR)\n",
    "* Front Left (FL)\n",
    "* Rear Right (RR)\n",
    "* Rear Left (RL)"
   ]
  },
  {
   "cell_type": "markdown",
   "id": "34eef886-b98b-426f-a907-be9b4f49d133",
   "metadata": {},
   "source": [
    "## 4. Standing pose"
   ]
  },
  {
   "cell_type": "markdown",
   "id": "102bc46c-8f4a-4815-9c73-d226b84e1175",
   "metadata": {},
   "source": [
    "In the default standing pose, the robot pose is defined by the following constants:\n",
    "\n",
    "| Constant   | Value (m) | Description                                        |\n",
    "|:---        |:---:      |:---:                                               |\n",
    "| STANCE_X  |  0.172    | Foot position along body X axis                    |\n",
    "| STANCE_Y  |  0.125    | Foot position along body Y axis                    |\n",
    "| STANCE_Z  | -0.180    | Foot position along body Z axis                    |\n",
    "| STANCE_X_SHIFT    | 0.018    | Foot offset along body X axis for CoM compensation |\n"
   ]
  },
  {
   "cell_type": "code",
   "execution_count": null,
   "id": "a7023e94-69b8-45eb-ad88-0f25e44a4939",
   "metadata": {},
   "outputs": [],
   "source": [
    "print(\"Default standing pose in BRF (m):\\n\\n\"+str(np.round(config.default_stance,3))+\"\\n\")"
   ]
  },
  {
   "cell_type": "markdown",
   "id": "1a4d38aa-cdfb-45f3-b9ba-36769e59a40e",
   "metadata": {},
   "source": [
    "## 5. Physical Model"
   ]
  },
  {
   "cell_type": "code",
   "execution_count": null,
   "id": "6c09b248-9f88-49f0-b50f-3fcb6c1f19ba",
   "metadata": {},
   "outputs": [],
   "source": [
    "from pytransform3d.urdf import UrdfTransformManager\n",
    "from pytransform3d.transformations import plot_transform\n",
    "from pytransform3d.plot_utils import make_3d_axis"
   ]
  },
  {
   "cell_type": "markdown",
   "id": "bc1f41e2-a6d6-47d4-9ad1-59a9afd929c6",
   "metadata": {},
   "source": [
    "Load felin URDF file:"
   ]
  },
  {
   "cell_type": "code",
   "execution_count": null,
   "id": "aa41e802-5aa8-471d-8355-a730ef4135ad",
   "metadata": {},
   "outputs": [],
   "source": [
    "tm = UrdfTransformManager()\n",
    "with open('./felin.urdf', \"r\") as f:\n",
    "    tm.load_urdf(f.read())"
   ]
  },
  {
   "cell_type": "markdown",
   "id": "5bcde554-e23d-44f9-8076-b0203612d416",
   "metadata": {},
   "source": [
    "List of joints and their limit angles (degrees):"
   ]
  },
  {
   "cell_type": "code",
   "execution_count": null,
   "id": "eda16c10-6013-4071-9d9f-e6a61f963c22",
   "metadata": {},
   "outputs": [],
   "source": [
    "for joint_name in tm._joints.keys():\n",
    "    print(joint_name+\"  \"+str(np.round(np.degrees(tm.get_joint_limits(joint_name)),0)))"
   ]
  },
  {
   "cell_type": "markdown",
   "id": "0269f443-3022-4c7c-840a-f629ddc70a75",
   "metadata": {},
   "source": [
    "Display robot:"
   ]
  },
  {
   "cell_type": "code",
   "execution_count": null,
   "id": "f43ad378-33c6-47e0-a8da-99b266d55aa1",
   "metadata": {},
   "outputs": [],
   "source": [
    "# arbitrary joint position for a nice robot rendering\n",
    "joint_position = np.radians(np.array(\n",
    "    [   #   FR,   FL,   RR,   RL\n",
    "        [  3.0, -3.0,  3.0, -3.0], # hips abduction revolute joints\n",
    "        [145.0,145.0,145.0,145.0], # hips flexion/extension revolute joints\n",
    "        [ 85.0, 85.0, 85.0, 85.0]  # knee flexion/extension revolute joints\n",
    "    ]\n",
    "))\n",
    "\n",
    "tm.set_joint(\"FR-ABD\", joint_position[0,0])\n",
    "tm.set_joint(\"FL-ABD\", joint_position[0,1])\n",
    "tm.set_joint(\"RR-ABD\", joint_position[0,2])\n",
    "tm.set_joint(\"RL-ABD\", joint_position[0,3])\n",
    "\n",
    "tm.set_joint(\"FR-HIPS\", joint_position[1,0])\n",
    "tm.set_joint(\"FL-HIPS\", joint_position[1,1])\n",
    "tm.set_joint(\"RR-HIPS\", joint_position[1,2])\n",
    "tm.set_joint(\"RL-HIPS\", joint_position[1,3])\n",
    "\n",
    "tm.set_joint(\"FR-KNEE\", joint_position[2,0])\n",
    "tm.set_joint(\"FL-KNEE\", joint_position[2,1])\n",
    "tm.set_joint(\"RR-KNEE\", joint_position[2,2])\n",
    "tm.set_joint(\"RL-KNEE\", joint_position[2,3])\n",
    "\n",
    "fig = plt.figure()\n",
    "ax = fig.add_subplot(projection='3d')\n",
    "ax = tm.plot_connections_in(\"felin\", ax=ax)\n",
    "tm.plot_visuals(\"felin\", ax_s=0.3, alpha=1.0)\n",
    "ax.set_xlabel('X axis')\n",
    "ax.set_ylabel('Y axis')\n",
    "ax.set_zlabel('Z axis')\n",
    "plt.show()"
   ]
  },
  {
   "cell_type": "markdown",
   "id": "f3af68d4-3d75-44c9-9153-4607cb27952c",
   "metadata": {},
   "source": [
    "## 6. Kinematics"
   ]
  },
  {
   "cell_type": "code",
   "execution_count": null,
   "id": "6007fa88-6836-44d4-acbd-81cd89ed4e50",
   "metadata": {},
   "outputs": [],
   "source": [
    "import Kinematics"
   ]
  },
  {
   "cell_type": "markdown",
   "id": "a596435f-721a-43ae-bd38-e2fefbdf60e4",
   "metadata": {},
   "source": [
    "### 6.1. Leg Reference Frame(s) (LRF)\n",
    "\n",
    "Each leg has its own reference frame:\n",
    "* Right-hand coordinate system\n",
    "* Centred on leg origin\n",
    "* X upward\n",
    "* Y leftward\n",
    "* Z backward (**aligned** with the hips abduction revolute joint of the leg)\n",
    "\n",
    "*Why such a reference frame? Because we will use the modified DH method to compute the FK. So, Z axis is the joint revolute axis.*"
   ]
  },
  {
   "cell_type": "markdown",
   "id": "b3dfad24-e1b5-4399-b20f-00a11b81eded",
   "metadata": {},
   "source": [
    "### 6.2. BRF to LRF transformation\n",
    "\n",
    "Transformations from Body Reference Frame to a Leg Reference Frame require :\n",
    "* a translation from body center to leg origins (using the previous leg origins matrix), \n",
    "* a rotation around Y axis by -90° (using a pitch rotation matrix, same for all legs). \n"
   ]
  },
  {
   "cell_type": "code",
   "execution_count": null,
   "id": "4b96e6f8-3b1d-435d-bcbf-8564594486a0",
   "metadata": {},
   "outputs": [],
   "source": [
    "print(\"Leg origins in BRF (m):\\n\\n\"+str(config.LEG_ORIGINS)+\"\\n\")"
   ]
  },
  {
   "cell_type": "code",
   "execution_count": null,
   "id": "71b85854-74a9-40d5-9632-09033a856aab",
   "metadata": {},
   "outputs": [],
   "source": [
    "print(\"Pitch Rotation Matrix:\\n\\n\"+str(Kinematics.R_BRF_to_LRF)+\"\\n\")"
   ]
  },
  {
   "cell_type": "markdown",
   "id": "4ec6d9aa-87ab-4b0b-a230-7813577c016e",
   "metadata": {},
   "source": [
    "Here is the default standing pose relative to LRF, by using BRF to LRF transformation:"
   ]
  },
  {
   "cell_type": "code",
   "execution_count": null,
   "id": "3372f800-ea23-440d-b7c2-54442101af0e",
   "metadata": {},
   "outputs": [],
   "source": [
    "pose_relative_BRF = config.default_stance\n",
    "print(\"Default standing pose in BRF (m):\\n\\n\"+str(np.round(pose_relative_BRF,3))+\"\\n\")\n",
    "\n",
    "# transformation form BRF to LRF : one translation (LEG ORIGIN) + one rotation around Y (-90°)\n",
    "pose_relative_LRF = np.zeros((3,4))\n",
    "for i in range(4):\n",
    "        pose_relative_LRF[:,i] = Kinematics.R_BRF_to_LRF.dot(pose_relative_BRF[:,i]-config.LEG_ORIGINS[:,i])\n",
    "        \n",
    "print(\"Default standing pose in LRF (m):\\n\\n\"+str(np.round(pose_relative_LRF,3))+\"\\n\")"
   ]
  },
  {
   "cell_type": "markdown",
   "id": "6d3e0c5f-5c90-4902-a414-906abe661ec5",
   "metadata": {},
   "source": [
    "### 6.3. Forward kinematics"
   ]
  },
  {
   "cell_type": "markdown",
   "id": "ce488e01-f089-4bf1-bc77-ba1bc6ca9764",
   "metadata": {},
   "source": [
    "The position of a foot in the LRF, is given by the joint positions of the corresponding leg:\n",
    "\n",
    "$$ P = \\text{FK}(\\theta)\n",
    "$$\n",
    "where\n",
    "$$\n",
    "\\theta = \n",
    "\\begin{bmatrix} \n",
    "\\theta_1 \\\\ \n",
    "\\vdots \\\\ \n",
    "\\theta_n \n",
    "\\end{bmatrix}\n",
    "$$\n"
   ]
  },
  {
   "cell_type": "markdown",
   "id": "8db17d7a-8612-4f6e-a8b2-b7a34f7ce464",
   "metadata": {},
   "source": [
    "The forward kinematics formula is defined by using the modified Denavit-Hartenberg method.\n",
    "\n",
    "The model of a revolute and and/or a prismatic joint is shown below:\n",
    "\n",
    "<img src=\"modifiedDH.png\" />\n",
    "\n",
    "where\n",
    "* **$\\theta$** is rotation about Z axis of the current joint\n",
    "* **d** is translation along Z axis of the current joint\n",
    "* **a** is the length of the link attached to the current joint\n",
    "* **$\\alpha$** is the twist of the link about X axis attached to the current joint\n",
    "\n",
    "The generic transformation matrix for a revolute and/or prismatic joint is:\n",
    "\n",
    "$$\n",
    "\\text{T}^{i-1}_{i}(\\theta_i,d_i,a_{i-1},\\alpha_{i-1}) = \n",
    "\\begin{bmatrix}\n",
    "cos(\\theta_i)                  & -sin(\\theta_i)                 & 0                  & a_{i-1} \\\\\n",
    "sin(\\theta_i)cos(\\alpha_{i-1}) & cos(\\theta_i)cos(\\alpha_{i-1}) & -sin(\\alpha_{i-1}) & -d_i sin(\\alpha_{i-1}) \\\\\n",
    "sin(\\theta_i)sin(\\alpha_{i-1}) & cos(\\theta_i)sin(\\alpha_{i-1}) & cos(\\alpha_{i-1})  &  d_i cos(\\alpha_{i-1}) \\\\\n",
    "0                              & 0                              & 0                  & 1\n",
    "\\end{bmatrix}\n",
    "$$\n",
    "\n",
    "The transformation matrix of a sequence of three joints is:\n",
    "\n",
    "$$\n",
    "\\text{T}^{0}_{3}=\\text{T}^{0}_{1}.\\text{T}^{1}_{2}.\\text{T}^{2}_{3}\n",
    "$$\n",
    "\n",
    "The position of the end-effector (foot) in the reference frame 0 (LRF) is the translation part of the final transformation matrix.\n",
    "\n",
    "$$\n",
    "\\text{T} = \n",
    "\\begin{bmatrix}\n",
    "Rotation & \\begin{matrix} FK_x \\\\ FK_y \\\\ FK_z \\end{matrix} \\\\\n",
    "\\begin{matrix} 0 & 0 & 0 \\end{matrix} & 1\n",
    "\\end{bmatrix}\n",
    "$$\n"
   ]
  },
  {
   "cell_type": "markdown",
   "id": "d516fd15-093c-448e-93ad-2db11b716d77",
   "metadata": {},
   "source": [
    "DH parameters for the front and rear left legs:\n",
    "    \n",
    "| Joint/Link | $\\theta$ (rotation about Z) | d (translation along Z) | a (length along X) | $\\alpha$ (twist about X) |\n",
    "|:---:       |:---:                      |:---:                    |:---:               |:---:                  |\n",
    "| 1          |  $\\theta_1$                   | 0                       | 0                  | -90°                  |\n",
    "| 2          |  $\\theta_2$+90°               | ABDUCTION_OFFSET        | LEG_LF             | 0°                    |\n",
    "| 3          |  $\\theta_3$-180°              | 0                       | LEG_LT             | 0°                    |\n",
    "\n",
    "DH parameters for the front and rear right legs:\n",
    "    \n",
    "| Joint/Link | $\\theta$ (rotation about Z) | d (translation along Z) | a (length along X) | $\\alpha$ (twist about X) |\n",
    "|:---:       |:---:                      |:---:                    |:---:               |:---:                  |\n",
    "| 1          |  $\\theta_1$                   | 0                       | 0                  | -90°                  |\n",
    "| 2          |  $\\theta_2$+90°               | -ABDUCTION_OFFSET        | LEG_LF             | 0°                    |\n",
    "| 3          |  $\\theta_3$-180°              | 0                       | LEG_LT             | 0°                    |\n",
    "\n",
    "where\n",
    "* $\\theta_1$ is the position of the HIPS adbuction revolute joint,\n",
    "* $\\theta_2$ is the position of the HIPS flexion/extension revolute joint,\n",
    "* $\\theta_3$ is the position of the KNEE flexion/extension revolute joint.\n",
    "\n",
    "Joint position is positive, according the CCW/TRIGO direction.\n",
    "\n",
    "When all revolute joints are zero, the leg pose is:\n",
    "* $\\theta_1=0$ ==> the leg is VERTICAL\n",
    "* $\\theta_2=0$ ==> the femur is HORIZONTAL, pointing forward.\n",
    "* $\\theta_3=0$ ==> the tibia is HORIZONTAL, pointing backward.\n"
   ]
  },
  {
   "cell_type": "code",
   "execution_count": null,
   "id": "9b120695-9e3f-443d-948a-cb2bcd4ec93b",
   "metadata": {},
   "outputs": [],
   "source": [
    "joint_position = np.radians(np.array(\n",
    "    [   #   FR,   FL,   RR,   RL\n",
    "        [  0.0,  0.0, 0.0, 0.0], # hips abduction revolute joints\n",
    "        [  0.0,  0.0, 0.0, 0.0], # hips flexion/extension revolute joints\n",
    "        [  0.0,  0.0, 0.0, 0.0]  # knee flexion/extension revolute joints\n",
    "    ]\n",
    "))\n",
    "\n",
    "tm.set_joint(\"FR-ABD\", joint_position[0,0])\n",
    "tm.set_joint(\"FL-ABD\", joint_position[0,1])\n",
    "tm.set_joint(\"RR-ABD\", joint_position[0,2])\n",
    "tm.set_joint(\"RL-ABD\", joint_position[0,3])\n",
    "\n",
    "tm.set_joint(\"FR-HIPS\", joint_position[1,0])\n",
    "tm.set_joint(\"FL-HIPS\", joint_position[1,1])\n",
    "tm.set_joint(\"RR-HIPS\", joint_position[1,2])\n",
    "tm.set_joint(\"RL-HIPS\", joint_position[1,3])\n",
    "\n",
    "tm.set_joint(\"FR-KNEE\", joint_position[2,0])\n",
    "tm.set_joint(\"FL-KNEE\", joint_position[2,1])\n",
    "tm.set_joint(\"RR-KNEE\", joint_position[2,2])\n",
    "tm.set_joint(\"RL-KNEE\", joint_position[2,3])\n",
    "\n",
    "fig = plt.figure()\n",
    "ax = fig.add_subplot(projection='3d')\n",
    "ax = tm.plot_connections_in(\"felin\", ax=ax)\n",
    "tm.plot_visuals(\"felin\", ax_s=0.30, alpha=1.0)\n",
    "ax.set_xlabel('X axis')\n",
    "ax.set_ylabel('Y axis')\n",
    "ax.set_zlabel('Z axis')\n",
    "plt.show()"
   ]
  },
  {
   "cell_type": "markdown",
   "id": "be77699d-e385-41b8-a5f9-f470c8af7daa",
   "metadata": {},
   "source": [
    "Note : The zero KNEE joint position leads to maximum flexion, so that the tibia is over the femur, and masked in the above 3D rendering.\n",
    "\n",
    "The pose with all zero joint position is not physically reachable, as the femur will collide the tibia.\n"
   ]
  },
  {
   "cell_type": "markdown",
   "id": "ec963302-c900-4bd7-b9da-360c9359b8f7",
   "metadata": {},
   "source": [
    "The DH method gives the forward kinematics functions :\n",
    "* parameters : the joint positions of the leg,\n",
    "* result : the 3D coordinates of the foot in the leg reference frame.\n",
    "\n",
    "For the left legs:\n",
    "$$\n",
    "\\text{FK}(\\theta_1,\\theta_2,\\theta_3) = \n",
    "\\begin{bmatrix}\n",
    "c_{1}.c_{23}.\\text{LEG_LT}+c_{1}.c_{2}.\\text{LEG_LF}-s_{1}.\\text{ABDUCTION_OFFSET} \\\\\n",
    "s_{1}.c_{23}.\\text{LEG_LT}+s_{1}.c_{2}.\\text{LEG_LF}+c_{1}.\\text{ABDUCTION_OFFSET} \\\\\n",
    "-s_{23}.\\text{LEG_LT}-s_{2}.\\text{LEG_LF}\n",
    "\\end{bmatrix}\n",
    "$$\n",
    "\n",
    "For the left legs:\n",
    "$$\n",
    "\\text{FK}(\\theta_1,\\theta_2,\\theta_3) = \n",
    "\\begin{bmatrix}\n",
    "c_{1}.c_{23}.\\text{LEG_LT}+c_{1}.c_{2}.\\text{LEG_LF}+s_{1}.\\text{ABDUCTION_OFFSET} \\\\\n",
    "s_{1}.c_{23}.\\text{LEG_LT}+s_{1}.c_{2}.\\text{LEG_LF}-c_{1}.\\text{ABDUCTION_OFFSET} \\\\\n",
    "-s_{23}.\\text{LEG_LT}-s_{2}.\\text{LEG_LF}\n",
    "\\end{bmatrix}\n",
    "$$\n",
    "\n",
    "where\n",
    "* $c_{1} = cos(\\theta_1)$\n",
    "* $s_{1} = sin(\\theta_1)$\n",
    "* $c_{2} = -sin(\\theta_2)$\n",
    "* $s_{2} = cos(\\theta_2)$\n",
    "* $c_{23} = sin(\\theta_2+\\theta_3)$\n",
    "* $s_{23} = -cos(\\theta_2+\\theta_3)$"
   ]
  },
  {
   "cell_type": "markdown",
   "id": "1bb265b0-abab-4953-aeac-3eeae31f07b5",
   "metadata": {},
   "source": [
    "Let's define an arbitrary set of joint positions, and check the foot positions, by using the forward kinematics formula:"
   ]
  },
  {
   "cell_type": "code",
   "execution_count": null,
   "id": "5c92fc35-dc35-4639-bb5e-96dd2f27400c",
   "metadata": {},
   "outputs": [],
   "source": [
    "joint_position = np.radians(np.array(\n",
    "    [   #   FR,   FL,   RR,   RL\n",
    "        [  0.0,  0.0, 25.0,-15.0], # hips abduction revolute joints\n",
    "        [180.0, 90.0,125.0,180.0], # hips flexion/extension revolute joints\n",
    "        [ 90.0, 90.0, 45.0,170.0]  # knee flexion/extension revolute joints\n",
    "    ]\n",
    "))\n",
    "print(\"joint_position:\\n\\n\"+str(np.round(np.degrees(joint_position),1))+\"\\n\")\n",
    "\n",
    "feet_LRF = Kinematics.four_legs_forward_kinematics_LRF(joint_position,config)\n",
    "print(\"feet_LRF:\\n\\n\"+str(np.round(feet_LRF,3))+\"\\n\")\n",
    "\n",
    "# transformation form LRF to BRF : one translation (LEG ORIGIN) + one rotation around Y (-90°)\n",
    "feet_BRF = np.zeros((3,4))\n",
    "for i in range(4):\n",
    "        feet_BRF[:,i] = Kinematics.R_BRF_to_LRF.transpose().dot(feet_LRF[:,i])+config.LEG_ORIGINS[:,i]\n",
    "print(\"feet_BRF:\\n\\n\"+str(np.round(feet_BRF,3))+\"\\n\")"
   ]
  },
  {
   "cell_type": "markdown",
   "id": "9c20a8e3-fa56-4821-be75-c4abe8241c8c",
   "metadata": {},
   "source": [
    "Let's compare the feet positions in BRF given by the forward kenamatics with the URDF transform3D tool:"
   ]
  },
  {
   "cell_type": "code",
   "execution_count": null,
   "id": "e465e55e-7d49-487e-a519-939899fb67ee",
   "metadata": {},
   "outputs": [],
   "source": [
    "joint_position = np.radians(np.array(\n",
    "    [   #   FR,   FL,   RR,   RL\n",
    "        [  0.0,  0.0, 25.0,-15.0], # hips abduction revolute joints\n",
    "        [180.0, 90.0,125.0,180.0], # hips flexion/extension revolute joints\n",
    "        [ 90.0, 90.0, 45.0,170.0]  # knee flexion/extension revolute joints\n",
    "    ]\n",
    "))\n",
    "\n",
    "tm.set_joint(\"FR-ABD\", joint_position[0,0])\n",
    "tm.set_joint(\"FL-ABD\", joint_position[0,1])\n",
    "tm.set_joint(\"RR-ABD\", joint_position[0,2])\n",
    "tm.set_joint(\"RL-ABD\", joint_position[0,3])\n",
    "\n",
    "tm.set_joint(\"FR-HIPS\", joint_position[1,0])\n",
    "tm.set_joint(\"FL-HIPS\", joint_position[1,1])\n",
    "tm.set_joint(\"RR-HIPS\", joint_position[1,2])\n",
    "tm.set_joint(\"RL-HIPS\", joint_position[1,3])\n",
    "\n",
    "tm.set_joint(\"FR-KNEE\", joint_position[2,0])\n",
    "tm.set_joint(\"FL-KNEE\", joint_position[2,1])\n",
    "tm.set_joint(\"RR-KNEE\", joint_position[2,2])\n",
    "tm.set_joint(\"RL-KNEE\", joint_position[2,3])\n",
    "\n",
    "# extract transformations\n",
    "legs = [\"FR\",\"FL\",\"RR\",\"RL\"]\n",
    "feet_BRF = np.zeros((3,4))\n",
    "for leg_index in range(4):\n",
    "\tfeet_BRF[:,leg_index] = tm.get_transform('%s-foot' % legs[leg_index], 'body-base')[0:3,3]\n",
    "print(\"feet_BRF:\\n\\n\"+str(np.round(feet_BRF,3))+\"\\n\")"
   ]
  },
  {
   "cell_type": "markdown",
   "id": "29ad53a4-82df-49f0-9f68-5a5e6e7ef582",
   "metadata": {},
   "source": [
    "This is the expected result. Forward kinematics should be alright!"
   ]
  },
  {
   "cell_type": "code",
   "execution_count": null,
   "id": "8edf835b-da0e-4ef4-9b76-df7ecf900e25",
   "metadata": {},
   "outputs": [],
   "source": [
    "fig = plt.figure()\n",
    "ax = fig.add_subplot(projection='3d')\n",
    "ax = tm.plot_connections_in(\"felin\", ax=ax)\n",
    "tm.plot_visuals(\"felin\", ax_s=0.30, alpha=1.0)\n",
    "ax.set_xlabel('X axis')\n",
    "ax.set_ylabel('Y axis')\n",
    "ax.set_zlabel('Z axis')\n",
    "plt.show()"
   ]
  },
  {
   "cell_type": "markdown",
   "id": "113f9d11-ad3c-4e12-b53b-d448b7ebf950",
   "metadata": {},
   "source": [
    "### 6.4. Jacobian"
   ]
  },
  {
   "cell_type": "markdown",
   "id": "ac280a08-1ce5-46d7-9faf-6640495acf58",
   "metadata": {},
   "source": [
    "The velocity of a foot in the LRF, is given by the Jacobian J and the joint position and the joint speed:\n",
    "\n",
    "$$ \\dot P = J(\\theta)  .  \\dot \\theta\n",
    "$$\n",
    "where\n",
    "$$\n",
    "\\theta = \n",
    "\\begin{bmatrix} \n",
    "\\theta_1 \\\\ \n",
    "\\theta_2 \\\\ \n",
    "\\theta_3 \n",
    "\\end{bmatrix}\n",
    "$$\n",
    "$$\n",
    "\\dot \\theta = \n",
    "\\begin{bmatrix} \n",
    "\\dot \\theta_1 \\\\ \n",
    "\\dot \\theta_2 \\\\ \n",
    "\\dot \\theta_3 \n",
    "\\end{bmatrix}\n",
    "$$"
   ]
  },
  {
   "cell_type": "markdown",
   "id": "6dc51051-2c6a-4036-8c1e-77662bf5eb82",
   "metadata": {},
   "source": [
    "Jacobian J is the partial derivative of the forward kinematics:\n",
    "\n",
    "$$ J(\\theta) =\n",
    "\\begin{bmatrix} \n",
    "\\frac{dFK_x}{d\\theta_1} & \\frac{dFK_x}{d\\theta_2} & \\frac{dFK_x}{d\\theta_3} \\\\\n",
    "\\frac{dFK_y}{d\\theta_1} & \\frac{dFK_y}{d\\theta_2} & \\frac{dFK_y}{d\\theta_3} \\\\\n",
    "\\frac{dFK_z}{d\\theta_1} & \\frac{dFK_z}{d\\theta_2} & \\frac{dFK_z}{d\\theta_3} \\\\\n",
    "\\end{bmatrix}\n",
    "$$"
   ]
  },
  {
   "cell_type": "markdown",
   "id": "a6f9fa35-7177-4c39-b5d3-0e2f64debeb0",
   "metadata": {},
   "source": [
    "For the left legs:\n",
    "\n",
    "$$\n",
    "\\text{J}(\\theta_1,\\theta_2,\\theta_3) = \n",
    "\\begin{bmatrix}\n",
    "-s_{1}.c_{23}.\\text{LEG_LT}-s_{1}.c_{2}.\\text{LEG_LF}-c_{1}.\\text{ABDUCTION_OFFSET} &\n",
    "-c_{1}.s_{23}.\\text{LEG_LT}-c_{1}.s_{2}.\\text{LEG_LF} &\n",
    "-c_{1}.s_{23}.\\text{LEG_LT} \\\\\n",
    "c_{1}.c_{23}.\\text{LEG_LT}+c_{1}.c_{2}.\\text{LEG_LF}-s_{1}.\\text{ABDUCTION_OFFSET} &\n",
    "-s_{1}.s_{23}.\\text{LEG_LT}-s_{1}.s_{2}.\\text{LEG_LF} &\n",
    "-s_{1}.s_{23}.\\text{LEG_LT} \\\\\n",
    "0 &\n",
    "-c_{23}.\\text{LEG_LT}-c_{2}.\\text{LEG_LF} &\n",
    "-c_{23}.\\text{LEG_LT} \n",
    "\\end{bmatrix}\n",
    "$$\n",
    "\n",
    "For the right legs:\n",
    "\n",
    "$$\n",
    "\\text{J}(\\theta_1,\\theta_2,\\theta_3) = \n",
    "\\begin{bmatrix}\n",
    "-s_{1}.c_{23}.\\text{LEG_LT}-s_{1}.c_{2}.\\text{LEG_LF}+c_{1}.\\text{ABDUCTION_OFFSET} &\n",
    "-c_{1}.s_{23}.\\text{LEG_LT}-c_{1}.s_{2}.\\text{LEG_LF} &\n",
    "-c_{1}.s_{23}.\\text{LEG_LT} \\\\\n",
    "c_{1}.c_{23}.\\text{LEG_LT}+c_{1}.c_{2}.\\text{LEG_LF}+s_{1}.\\text{ABDUCTION_OFFSET} &\n",
    "-s_{1}.s_{23}.\\text{LEG_LT}-s_{1}.s_{2}.\\text{LEG_LF} &\n",
    "-s_{1}.s_{23}.\\text{LEG_LT} \\\\\n",
    "0 &\n",
    "-c_{23}.\\text{LEG_LT}-c_{2}.\\text{LEG_LF} &\n",
    "-c_{23}.\\text{LEG_LT} \n",
    "\\end{bmatrix}\n",
    "$$\n",
    "\n",
    "where\n",
    "* $c_{1} = cos(\\theta_1)$\n",
    "* $s_{1} = sin(\\theta_1)$\n",
    "* $c_{2} = -sin(\\theta_2)$\n",
    "* $s_{2} = cos(\\theta_2)$\n",
    "* $c_{23} = sin(\\theta_2+\\theta_3)$\n",
    "* $s_{23} = -cos(\\theta_2+\\theta_3)$"
   ]
  },
  {
   "cell_type": "markdown",
   "id": "3b85fbc4-03d7-43f0-88a0-f4b0021c1a3f",
   "metadata": {},
   "source": [
    "Let's check the Jacobians! \n",
    "\n",
    "The robot is in an arbitrary standing pose, and it starts an in-place hop.\n",
    "\n",
    "HIPS flexion and KNEE extension will probably cause the feet to move downward..."
   ]
  },
  {
   "cell_type": "code",
   "execution_count": null,
   "id": "e3176859-8f5c-4a64-a855-9798596d6e84",
   "metadata": {},
   "outputs": [],
   "source": [
    "# arbitrary joint positions\n",
    "joint_position = np.radians(np.array(\n",
    "    [   #   FR,   FL,   RR,   RL\n",
    "        [  0.0,  0.0,  0.0,  0.0], # hips abduction revolute joints\n",
    "        [139.0,139.0,139.0,139.0], # hips flexion/extension revolute joints\n",
    "        [ 86.0, 86.0, 86.0, 86.0]  # knee flexion/extension revolute joints\n",
    "    ]\n",
    "))\n",
    "\n",
    "# compute feet positions in LRF\n",
    "feet_position_LRF = Kinematics.four_legs_forward_kinematics_LRF(joint_position,config)\n",
    "\n",
    "# transformation feet positions form LRF to BRF : one translation (LEG ORIGIN) + one rotation around Y (-90°)\n",
    "feet_position_BRF = np.zeros((3,4))\n",
    "for i in range(4):\n",
    "        feet_position_BRF[:,i] = Kinematics.R_BRF_to_LRF.transpose().dot(feet_position_LRF[:,i])+config.LEG_ORIGINS[:,i]\n",
    "print(\"feet_position_BRF:\\n\\n\"+str(np.round(feet_position_BRF,3))+\"\\n\")\n",
    "\n",
    "# HIPS flexion and KNEE extension with an arbitrary speed (radians per seconds)\n",
    "joint_speed = np.radians(np.array(\n",
    "    [   #   FR,   FL,   RR,   RL\n",
    "        [  0.0,  0.0,  0.0, 0.0], # hips abduction revolute joints\n",
    "        [-1.0, -1.0, -1.0, -1.0], # hips flexion/extension revolute joints\n",
    "        [ 2.0,  2.0,  2.0,  2.0]  # knee flexion/extension revolute joints\n",
    "    ]\n",
    "))\n",
    "\n",
    "# compute Jacobian and then feet velocities in LRF based on joint positions and joint speeds\n",
    "feet_velocity_LRF = np.zeros((3,4))\n",
    "for leg_index in range(4):\n",
    "    J = Kinematics.jacobian(joint_position[:,leg_index],leg_index,config)\n",
    "    feet_velocity_LRF[:,leg_index] = J @ joint_speed[:,leg_index]\n",
    "\n",
    "# transformation of the feet velocities from LRF to BRF : one rotation around Y (-90°)\n",
    "feet_velocity_BRF = np.zeros((3,4))\n",
    "for i in range(4):\n",
    "        feet_velocity_BRF[:,i] = Kinematics.R_BRF_to_LRF.transpose().dot(feet_velocity_LRF[:,i])\n",
    "print(\"feet_velocity_BRF:\\n\\n\"+str(np.round(feet_velocity_BRF,3))+\"\\n\")"
   ]
  },
  {
   "cell_type": "markdown",
   "id": "4288b68a-166c-4811-8060-c6d0954be645",
   "metadata": {},
   "source": [
    "The velocity of the four feet is vertical and oriented downward (-Z). This is the expected result ! Jacobian should be alright!"
   ]
  },
  {
   "cell_type": "markdown",
   "id": "1442d1a9-e9a4-4721-b90a-5a150b7e3224",
   "metadata": {},
   "source": [
    "### 6.5. Inverse Kinematics"
   ]
  },
  {
   "cell_type": "markdown",
   "id": "46053936-55cb-4a6b-bad8-8b1c343073fc",
   "metadata": {},
   "source": [
    "The position of the joints is given by the foot position  in the LRF of the corresponding leg:\n",
    "\n",
    "$$ \\theta = \\text{IK}(x,y,z)\n",
    "$$\n",
    "where\n",
    "$$\n",
    "\\theta = \n",
    "\\begin{bmatrix} \n",
    "\\theta_1 \\\\ \n",
    "\\vdots \\\\ \n",
    "\\theta_n \n",
    "\\end{bmatrix}\n",
    "$$\n"
   ]
  },
  {
   "cell_type": "markdown",
   "id": "7012b728-8653-49e7-a3e2-4243eb17a1e2",
   "metadata": {},
   "source": [
    "The Jacobian method has is an iterative algorithm with five steps:\n",
    "* Compute the current foot position $P = \\text{FK}(\\theta)$ using the current joint positions $\\theta$\n",
    "* Compute the error $\\Delta P$ between goal position and current position\n",
    "* Compute the Jacobian $J(\\theta)$ using the current joint positions $\\theta$\n",
    "* Compute the joint correction  $\\Delta \\theta = J(\\theta)^{-1}.\\Delta P$\n",
    "* Update the joint position with a factor $\\theta = \\theta + \\alpha.\\Delta \\theta$\n",
    "\n",
    "When goal position is near the present position, a small number (~5) of iterations gives a very good accuracy (<0.0001m)."
   ]
  },
  {
   "cell_type": "code",
   "execution_count": null,
   "id": "ca23bfc1-fbe0-4825-86b3-2c3940cece9c",
   "metadata": {},
   "outputs": [],
   "source": [
    "# arbitrary present joint positions\n",
    "present_joint_position = np.radians(np.array(\n",
    "    [   #   FR,   FL,   RR,   RL\n",
    "        [  0.0,  0.0,  0.0,  0.0], # hips abduction revolute joints\n",
    "        [139.0,139.0,139.0,139.0], # hips flexion/extension revolute joints\n",
    "        [ 86.0, 86.0, 86.0, 86.0]  # knee flexion/extension revolute joints\n",
    "    ]\n",
    "))\n",
    "\n",
    "# compute present feet positions in BRF\n",
    "present_feet_position_BRF = Kinematics.four_legs_forward_kinematics_BRF(present_joint_position,config)\n",
    "print(\"Present feet position BRF:\\n\\n\"+str(np.round(present_feet_position_BRF,3))+\"\\n\")\n",
    "\n",
    "# here is the expected result.\n",
    "expected_joint_position = np.radians(np.array(\n",
    "    [   #   FR,   FL,   RR,   RL\n",
    "        [  0.0,  0.0, 25.0,-15.0], # hips abduction revolute joints\n",
    "        [180.0, 90.0,125.0,180.0], # hips flexion/extension revolute joints\n",
    "        [ 90.0, 90.0, 45.0,170.0]  # knee flexion/extension revolute joints\n",
    "    ]\n",
    "))\n",
    "\n",
    "# apply FK to find the target feet positions in BRF\n",
    "target_feet_position_BRF = Kinematics.four_legs_forward_kinematics_BRF(expected_joint_position,config)\n",
    "print(\"Target feet positions BRF:\\n\\n\"+str(np.round(target_feet_position_BRF,3))+\"\\n\")\n",
    "\n",
    "# now try IK...\n",
    "\n",
    "# transformation from BRF to LRF : one translation (LEG ORIGIN) + one rotation around Y (-90°)\n",
    "target_feet_position_LRF = np.zeros((3,4))\n",
    "for i in range(4):\n",
    "        target_feet_position_LRF[:,i] = Kinematics.R_BRF_to_LRF.dot(target_feet_position_BRF[:,i]-config.LEG_ORIGINS[:,i])\n",
    "        \n",
    "IK_joint_positions = Kinematics.four_legs_inverse_kinematics_LRF(target_feet_position_LRF,present_joint_position,config)\n",
    "print(\"IK computed joint positions:\\n\\n\"+str(np.round(np.degrees(IK_joint_positions),1))+\"\\n\")\n",
    "\n",
    "expected_joint_position = np.radians(np.array(\n",
    "    [   #   FR,   FL,   RR,   RL\n",
    "        [  0.0,  0.0, 25.0,-15.0], # hips abduction revolute joints\n",
    "        [180.0, 90.0,125.0,180.0], # hips flexion/extension revolute joints\n",
    "        [ 90.0, 90.0, 45.0,170.0]  # knee flexion/extension revolute joints\n",
    "    ]\n",
    "))\n",
    "print(\"Expected joint positions:\\n\\n\"+str(np.round(np.degrees(expected_joint_position),1))+\"\\n\")"
   ]
  },
  {
   "cell_type": "markdown",
   "id": "4bd6c77f-c53f-4b1f-81a0-ccd8c739ffbf",
   "metadata": {},
   "source": [
    "This is the expected result. Iterative inverse kinematics should be alright!"
   ]
  },
  {
   "cell_type": "markdown",
   "id": "6fe13baa-e1c3-4dd8-ae52-d58bbf7d9008",
   "metadata": {},
   "source": [
    "### 6.6. Inverse Kinematics (back-up)"
   ]
  },
  {
   "cell_type": "markdown",
   "id": "a4ed3741-f607-4370-8b9f-8a3c96fb3321",
   "metadata": {},
   "source": [
    "Another method to compute the inverse kinematics is analyticaly by using trigonommetry.\n",
    "\n",
    "*Solution not detailled*"
   ]
  },
  {
   "cell_type": "code",
   "execution_count": null,
   "id": "b79e52a8-4ff2-4f7d-b9d7-e5f1e50db9d9",
   "metadata": {},
   "outputs": [],
   "source": [
    "# here is the expected result.\n",
    "expected_joint_position = np.radians(np.array(\n",
    "    [   #   FR,   FL,   RR,   RL\n",
    "        [  0.0,  0.0, 25.0,-15.0], # hips abduction revolute joints\n",
    "        [180.0, 90.0,125.0,180.0], # hips flexion/extension revolute joints\n",
    "        [ 90.0, 90.0, 45.0,170.0]  # knee flexion/extension revolute joints\n",
    "    ]\n",
    "))\n",
    "\n",
    "# apply FK to find the target feet positions in BRF\n",
    "target_feet_position_BRF = Kinematics.four_legs_forward_kinematics_BRF(expected_joint_position,config)\n",
    "print(\"Target feet positions BRF:\\n\\n\"+str(np.round(target_feet_position_BRF,3))+\"\\n\")\n",
    "\n",
    "# now try IK...\n",
    "\n",
    "# transformation form BRF to LRF : one translation (LEG ORIGIN) + one rotation around Y (-90°)\n",
    "target_feet_position_LRF = np.zeros((3,4))\n",
    "for i in range(4):\n",
    "        target_feet_position_LRF[:,i] = Kinematics.R_BRF_to_LRF.dot(target_feet_position_BRF[:,i]-config.LEG_ORIGINS[:,i])\n",
    "        \n",
    "IK_joint_positions = Kinematics.four_legs_explicit_inverse_kinematics_LRF(target_feet_position_LRF,config)\n",
    "print(\"IK computed joint positions:\\n\\n\"+str(np.round(np.degrees(IK_joint_positions),1))+\"\\n\")\n",
    "print(\"Expected joint positions:\\n\\n\"+str(np.round(np.degrees(expected_joint_position),1))+\"\\n\")"
   ]
  },
  {
   "cell_type": "markdown",
   "id": "78da35fc-102f-4c3e-9e95-70de3b5ecf3e",
   "metadata": {},
   "source": [
    "This is the expected result. Analytical inverse kinematics should be alright!"
   ]
  },
  {
   "cell_type": "markdown",
   "id": "c1b4dfdb-ab2d-4ed0-941c-19898a0ff397",
   "metadata": {},
   "source": [
    "## 7. Leg space & joint limits"
   ]
  },
  {
   "cell_type": "code",
   "execution_count": null,
   "id": "47d44314-89eb-4f0c-bb2a-56b7b514f785",
   "metadata": {},
   "outputs": [],
   "source": [
    "X =[]\n",
    "Y =[]\n",
    "Z =[]\n",
    "for h in range(80,195,1):\n",
    "     for k in range(25,178,1):\n",
    "                joint_position = np.radians(np.array([0, h, k]))\n",
    "                (x,y,z) = Kinematics.leg_forward_kinematics_LRF(joint_position,0,config)\n",
    "                X.append(x)\n",
    "                Y.append(y)\n",
    "                Z.append(z)\n",
    "\n",
    "\n",
    "# plot\n",
    "fig, ax = plt.subplots()\n",
    "ax.scatter(Z,X,c=\"blue\")\n",
    "ax.scatter(0,0,c=\"black\") # leg origin\n",
    "ax.scatter(config.STANCE_X+config.STANCE_X_SHIFT-config.LEG_OX,config.STANCE_Z,c=\"red\") # Foot position in default standing pose\n",
    "ax.set(xlim=(-0.2, 0.2), ylim=(-0.3, 0.1))\n",
    "ax.set_title('Front Right Foot space in Leg XZ plane of Body XZ plane (meters)')\n",
    "ax.set_xlabel('[<<< forward] Z Leg axis or X Body axis [backward>>>]')\n",
    "ax.set_ylabel('X Leg axis or Z Body axis [upward>>>]')\n",
    "plt.show()"
   ]
  },
  {
   "cell_type": "code",
   "execution_count": null,
   "id": "a4570f50-9002-44f6-bfc3-8d2b83e76d75",
   "metadata": {},
   "outputs": [],
   "source": [
    "X =[]\n",
    "Y =[]\n",
    "Z =[]\n",
    "for h in range(80,195,2):\n",
    "     for k in range(25,178,2):\n",
    "            for a in range(-23,+23,2):\n",
    "                joint_position = np.radians(np.array([a, h, k]))\n",
    "                (x,y,z) = Kinematics.leg_forward_kinematics_LRF(joint_position,0,config)\n",
    "                X.append(x)\n",
    "                Y.append(y)\n",
    "                Z.append(z)\n",
    "\n",
    "# plot\n",
    "fig, ax = plt.subplots()\n",
    "ax.scatter(Y,X,c=\"blue\")\n",
    "ax.scatter(0,0,c=\"black\") # leg origin\n",
    "ax.scatter(-config.STANCE_Y+config.LEG_OY,config.STANCE_Z,c=\"red\") # Foot position in default standing pose\n",
    "ax.set(xlim=(-0.2, 0.2),ylim=(-0.3, 0.1))\n",
    "ax.set_title('Front Right Foot space in Leg YZ plane of Body YZ plane (meters)')\n",
    "ax.set_xlabel('[<<< right] Y Leg axis or Y Body axis [left>>>]')\n",
    "ax.set_ylabel('X Leg axis or Z Body axis [upward>>>]')\n",
    "plt.show()"
   ]
  }
 ],
 "metadata": {
  "kernelspec": {
   "display_name": "Python 3 (ipykernel)",
   "language": "python",
   "name": "python3"
  },
  "language_info": {
   "codemirror_mode": {
    "name": "ipython",
    "version": 3
   },
   "file_extension": ".py",
   "mimetype": "text/x-python",
   "name": "python",
   "nbconvert_exporter": "python",
   "pygments_lexer": "ipython3",
   "version": "3.8.10"
  }
 },
 "nbformat": 4,
 "nbformat_minor": 5
}
